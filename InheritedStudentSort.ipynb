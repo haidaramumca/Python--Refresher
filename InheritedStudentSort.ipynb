{
  "nbformat": 4,
  "nbformat_minor": 0,
  "metadata": {
    "colab": {
      "name": "Untitled6.ipynb",
      "provenance": [],
      "authorship_tag": "ABX9TyOcMB0ZqWpVjzuCrR9LZSlX",
      "include_colab_link": true
    },
    "kernelspec": {
      "name": "python3",
      "display_name": "Python 3"
    }
  },
  "cells": [
    {
      "cell_type": "markdown",
      "metadata": {
        "id": "view-in-github",
        "colab_type": "text"
      },
      "source": [
        "<a href=\"https://colab.research.google.com/github/haidaramumca/test/blob/main/InheritedStudentSort.ipynb\" target=\"_parent\"><img src=\"https://colab.research.google.com/assets/colab-badge.svg\" alt=\"Open In Colab\"/></a>"
      ]
    },
    {
      "cell_type": "code",
      "metadata": {
        "id": "qeXltsxTEOiT",
        "colab": {
          "base_uri": "https://localhost:8080/"
        },
        "outputId": "05ce03c2-7a53-4a3d-c3d8-966d9c11d8c4"
      },
      "source": [
        "class Student:\r\n",
        "    def __init__(self, name, marks):\r\n",
        "        self.name = name  \r\n",
        "        self.marks = marks\r\n",
        "        \r\n",
        "    def __add__(self, other):\r\n",
        "      if isinstance(other,Subject):\r\n",
        "        return self.marks + other.marks\r\n",
        "      else:\r\n",
        "        return int(self.marks) + int(other)\r\n",
        "\r\n",
        "\r\n",
        "class Subject(Student):\r\n",
        "    def __init__(self,name, marks,subject_name):  \r\n",
        "        super().__init__(name,marks)\r\n",
        "        self.subject_name = subject_name\r\n",
        "\r\n",
        "student1=Subject('Haidar',70,'English')\r\n",
        "student2=Subject('Haidar',89,'Maths')\r\n",
        "student3=Subject('Ali',80,'Physics')\r\n",
        "student4=Subject('Abbas',70,'Chemistry')\r\n",
        "student5=Subject('Ali',90,'Maths')\r\n",
        "student6=Subject('Hussain',95,'Maths')\r\n",
        "student7=Subject('Hasan',70,'Biology')\r\n",
        "student8=Subject('Hasan',70,'Biology')\r\n",
        "\r\n",
        "StudentList=[student1,student2,student3,student4,student5,student6,student7,student8]\r\n",
        "\r\n",
        "SumMarks=(student1+student2)+(student3+student4)+(student5+student6)+(student7+student8)\r\n",
        "#SumMarks = sum(StudentList)\r\n",
        "print(\"Sum of Marks: \" + str(SumMarks))\r\n",
        "\r\n",
        "StudentList.sort(key=lambda x: x.name)\r\n",
        "for x in StudentList:\r\n",
        "  print(x.name + \" \" + x.subject_name + \" \"+str(x.marks))\r\n"
      ],
      "execution_count": 83,
      "outputs": [
        {
          "output_type": "stream",
          "text": [
            "Sum of Marks: 634\n",
            "Abbas Chemistry 70\n",
            "Ali Physics 80\n",
            "Ali Maths 90\n",
            "Haidar English 70\n",
            "Haidar Maths 89\n",
            "Hasan Biology 70\n",
            "Hasan Biology 70\n",
            "Hussain Maths 95\n"
          ],
          "name": "stdout"
        }
      ]
    }
  ]
}