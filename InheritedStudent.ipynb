{
  "nbformat": 4,
  "nbformat_minor": 0,
  "metadata": {
    "colab": {
      "name": "Untitled6.ipynb",
      "provenance": [],
      "authorship_tag": "ABX9TyNmnepiGITu8qfzimcvZXDx",
      "include_colab_link": true
    },
    "kernelspec": {
      "name": "python3",
      "display_name": "Python 3"
    }
  },
  "cells": [
    {
      "cell_type": "markdown",
      "metadata": {
        "id": "view-in-github",
        "colab_type": "text"
      },
      "source": [
        "<a href=\"https://colab.research.google.com/github/haidaramumca/test/blob/main/InheritedStudent.ipynb\" target=\"_parent\"><img src=\"https://colab.research.google.com/assets/colab-badge.svg\" alt=\"Open In Colab\"/></a>"
      ]
    },
    {
      "cell_type": "code",
      "metadata": {
        "id": "qeXltsxTEOiT",
        "colab": {
          "base_uri": "https://localhost:8080/",
          "height": 218
        },
        "outputId": "6e9061e5-ebca-411a-f60f-011b7d5564a8"
      },
      "source": [
        "class Student:\r\n",
        "    def __init__(self, name, marks):\r\n",
        "        self.name = name  \r\n",
        "        self.marks = marks\r\n",
        "        \r\n",
        "    def __add__(self, other):\r\n",
        "      if isinstance(other,Subject):\r\n",
        "        return self.marks + other.marks\r\n",
        "      else:\r\n",
        "        return int(self.marks) + int(other)\r\n",
        "\r\n",
        "\r\n",
        "class Subject(Student):\r\n",
        "    def __init__(self,name, marks,subject_name):  \r\n",
        "        super().__init__(name,marks)\r\n",
        "        self.subject_name = subject_name\r\n",
        "\r\n",
        "student1=Subject('Haidar',70,'English')\r\n",
        "student2=Subject('Haidar',89,'Maths')\r\n",
        "student3=Subject('Ali',80,'Physics')\r\n",
        "student4=Subject('Abbas',70,'Chemistry')\r\n",
        "student5=Subject('Ali',90,'Maths')\r\n",
        "student6=Subject('Hussain',95,'Maths')\r\n",
        "student7=Subject('Hasan',70,'Biology')\r\n",
        "student8=Subject('Hasan',70,'Biology')\r\n",
        "\r\n",
        "StudentList=[student1,student2,student3,student4,student5,student6,student7,student8]\r\n",
        "\r\n",
        "SumMarks=(student1+student2)+(student3+student4)+(student5+student6)+(student7+student8)\r\n",
        "#SumMarks = sum(StudentList)\r\n",
        "print(\"Sum of Marks: \" + str(SumMarks))\r\n",
        "\r\n",
        "StudentList.sort(key=name)"
      ],
      "execution_count": 71,
      "outputs": [
        {
          "output_type": "stream",
          "text": [
            "Sum of Marks: 634\n"
          ],
          "name": "stdout"
        },
        {
          "output_type": "error",
          "ename": "NameError",
          "evalue": "ignored",
          "traceback": [
            "\u001b[0;31m---------------------------------------------------------------------------\u001b[0m",
            "\u001b[0;31mNameError\u001b[0m                                 Traceback (most recent call last)",
            "\u001b[0;32m<ipython-input-71-f7f97e8ca90d>\u001b[0m in \u001b[0;36m<module>\u001b[0;34m()\u001b[0m\n\u001b[1;32m     31\u001b[0m \u001b[0mprint\u001b[0m\u001b[0;34m(\u001b[0m\u001b[0;34m\"Sum of Marks: \"\u001b[0m \u001b[0;34m+\u001b[0m \u001b[0mstr\u001b[0m\u001b[0;34m(\u001b[0m\u001b[0mSumMarks\u001b[0m\u001b[0;34m)\u001b[0m\u001b[0;34m)\u001b[0m\u001b[0;34m\u001b[0m\u001b[0;34m\u001b[0m\u001b[0m\n\u001b[1;32m     32\u001b[0m \u001b[0;34m\u001b[0m\u001b[0m\n\u001b[0;32m---> 33\u001b[0;31m \u001b[0mStudentList\u001b[0m\u001b[0;34m.\u001b[0m\u001b[0msort\u001b[0m\u001b[0;34m(\u001b[0m\u001b[0mkey\u001b[0m\u001b[0;34m=\u001b[0m\u001b[0mname\u001b[0m\u001b[0;34m)\u001b[0m\u001b[0;34m\u001b[0m\u001b[0;34m\u001b[0m\u001b[0m\n\u001b[0m",
            "\u001b[0;31mNameError\u001b[0m: name 'name' is not defined"
          ]
        }
      ]
    }
  ]
}