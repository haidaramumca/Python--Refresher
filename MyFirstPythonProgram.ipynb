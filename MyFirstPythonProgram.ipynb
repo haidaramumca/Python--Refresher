{
  "nbformat": 4,
  "nbformat_minor": 0,
  "metadata": {
    "colab": {
      "name": "MyFirstPythonProgram.ipynb",
      "provenance": [],
      "collapsed_sections": [],
      "include_colab_link": true
    },
    "kernelspec": {
      "name": "python3",
      "display_name": "Python 3"
    }
  },
  "cells": [
    {
      "cell_type": "markdown",
      "metadata": {
        "id": "view-in-github",
        "colab_type": "text"
      },
      "source": [
        "<a href=\"https://colab.research.google.com/github/haidaramumca/test/blob/main/MyFirstPythonProgram.ipynb\" target=\"_parent\"><img src=\"https://colab.research.google.com/assets/colab-badge.svg\" alt=\"Open In Colab\"/></a>"
      ]
    },
    {
      "cell_type": "code",
      "metadata": {
        "colab": {
          "base_uri": "https://localhost:8080/",
          "height": 35
        },
        "id": "lTYW0Y3EreKu",
        "outputId": "1b7cc953-3aa3-4b8c-f15f-fdfce29d16bc"
      },
      "source": [
        "\"Hello World\""
      ],
      "execution_count": null,
      "outputs": [
        {
          "output_type": "execute_result",
          "data": {
            "application/vnd.google.colaboratory.intrinsic+json": {
              "type": "string"
            },
            "text/plain": [
              "'Hello World'"
            ]
          },
          "metadata": {
            "tags": []
          },
          "execution_count": 1
        }
      ]
    },
    {
      "cell_type": "code",
      "metadata": {
        "colab": {
          "base_uri": "https://localhost:8080/",
          "height": 35
        },
        "id": "i2S3NU-Ur69w",
        "outputId": "79636dee-45c3-4d2a-d8f3-ceb7a631c0e8"
      },
      "source": [
        "\"Hellow Wolrd\"\r\n",
        "\"I am new to python\""
      ],
      "execution_count": null,
      "outputs": [
        {
          "output_type": "execute_result",
          "data": {
            "application/vnd.google.colaboratory.intrinsic+json": {
              "type": "string"
            },
            "text/plain": [
              "'I am new to python'"
            ]
          },
          "metadata": {
            "tags": []
          },
          "execution_count": 2
        }
      ]
    },
    {
      "cell_type": "code",
      "metadata": {
        "colab": {
          "base_uri": "https://localhost:8080/"
        },
        "id": "JNxTn51Nr7ea",
        "outputId": "dbf1304e-8311-48c8-cd30-ef7a93ace540"
      },
      "source": [
        "print(\"Hello World\")\r\n",
        "print(\"I am new to python\")"
      ],
      "execution_count": null,
      "outputs": [
        {
          "output_type": "stream",
          "text": [
            "Hello World\n",
            "I am new to python\n"
          ],
          "name": "stdout"
        }
      ]
    },
    {
      "cell_type": "code",
      "metadata": {
        "colab": {
          "base_uri": "https://localhost:8080/"
        },
        "id": "qwW4uvsWsMvJ",
        "outputId": "0e5ca0ac-9f6f-4ea4-84e5-dc831fc663e2"
      },
      "source": [
        "print(\"Hellow World\")\r\n",
        "print()\r\n",
        "print(\"I am new to python\")\r\n"
      ],
      "execution_count": null,
      "outputs": [
        {
          "output_type": "stream",
          "text": [
            "Hellow World\n",
            "\n",
            "I am new to python\n"
          ],
          "name": "stdout"
        }
      ]
    }
  ]
}