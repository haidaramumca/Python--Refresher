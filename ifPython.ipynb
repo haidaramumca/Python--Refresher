{
  "nbformat": 4,
  "nbformat_minor": 0,
  "metadata": {
    "colab": {
      "name": "Untitled3.ipynb",
      "provenance": [],
      "authorship_tag": "ABX9TyM4afihodR+7KeXzEc6ZaII",
      "include_colab_link": true
    },
    "kernelspec": {
      "name": "python3",
      "display_name": "Python 3"
    }
  },
  "cells": [
    {
      "cell_type": "markdown",
      "metadata": {
        "id": "view-in-github",
        "colab_type": "text"
      },
      "source": [
        "<a href=\"https://colab.research.google.com/github/haidaramumca/test/blob/main/ifPython.ipynb\" target=\"_parent\"><img src=\"https://colab.research.google.com/assets/colab-badge.svg\" alt=\"Open In Colab\"/></a>"
      ]
    },
    {
      "cell_type": "code",
      "metadata": {
        "colab": {
          "base_uri": "https://localhost:8080/"
        },
        "id": "cqWThWNzIgPX",
        "outputId": "74354656-763c-4e61-bbda-af8c68f6c351"
      },
      "source": [
        "age = int(input())\r\n",
        "if age > 18 and age <80 :\r\n",
        "  print(\"Elligible for the licence\")\r\n",
        "elif age >=80 :\r\n",
        "  print(\"Not Elligible for the licence\")"
      ],
      "execution_count": 9,
      "outputs": [
        {
          "output_type": "stream",
          "text": [
            "30\n",
            "Elligible for the licence\n"
          ],
          "name": "stdout"
        }
      ]
    },
    {
      "cell_type": "code",
      "metadata": {
        "colab": {
          "base_uri": "https://localhost:8080/"
        },
        "id": "ePJY6OhZJWub",
        "outputId": "487e691b-279f-485b-9a0d-44beceaaaf46"
      },
      "source": [
        "age =int( input())\r\n",
        "if age > 70:\r\n",
        "  Print(\"NOT ELLIGIBLE\")"
      ],
      "execution_count": 8,
      "outputs": [
        {
          "output_type": "stream",
          "text": [
            "30\n"
          ],
          "name": "stdout"
        }
      ]
    }
  ]
}