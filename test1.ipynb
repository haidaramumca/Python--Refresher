{
  "nbformat": 4,
  "nbformat_minor": 0,
  "metadata": {
    "colab": {
      "name": "Copy of Untitled6.ipynb",
      "provenance": [],
      "collapsed_sections": [],
      "authorship_tag": "ABX9TyPNST7MdwhNFFOPIyKytd49",
      "include_colab_link": true
    },
    "kernelspec": {
      "name": "python3",
      "display_name": "Python 3"
    }
  },
  "cells": [
    {
      "cell_type": "markdown",
      "metadata": {
        "id": "view-in-github",
        "colab_type": "text"
      },
      "source": [
        "<a href=\"https://colab.research.google.com/github/haidaramumca/test/blob/main/test1.ipynb\" target=\"_parent\"><img src=\"https://colab.research.google.com/assets/colab-badge.svg\" alt=\"Open In Colab\"/></a>"
      ]
    },
    {
      "cell_type": "code",
      "metadata": {
        "id": "qeXltsxTEOiT",
        "colab": {
          "base_uri": "https://localhost:8080/"
        },
        "outputId": "6ab59189-ed98-4bce-f3cb-2ac065995bf4"
      },
      "source": [
        "class Mazaher:\r\n",
        "    def __init__(self,age,weight,number):\r\n",
        "      self.age=age\r\n",
        "      self.weight=weight\r\n",
        "      self.number=number\r\n",
        "      print(\"age\",self.age)\r\n",
        "      print(\"weight\",self.weight)\r\n",
        "    def __add__(self,other):\r\n",
        "      sum=self.number+other\r\n",
        "      return sum\r\n",
        "\r\n",
        "hello=Mazaher(23,45,8)\r\n",
        "hi=hello+12\r\n",
        "print(str(hi))\r\n",
        "\r\n",
        "#hi=.__add__(7)\r\n",
        "\r\n"
      ],
      "execution_count": 1,
      "outputs": [
        {
          "output_type": "stream",
          "text": [
            "age 23\n",
            "weight 45\n",
            "20\n"
          ],
          "name": "stdout"
        }
      ]
    }
  ]
}