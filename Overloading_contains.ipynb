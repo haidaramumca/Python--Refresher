{
  "nbformat": 4,
  "nbformat_minor": 0,
  "metadata": {
    "colab": {
      "name": "Untitled5.ipynb",
      "provenance": [],
      "authorship_tag": "ABX9TyOUJkk/vCMkli+FmkMe0SbP",
      "include_colab_link": true
    },
    "kernelspec": {
      "name": "python3",
      "display_name": "Python 3"
    }
  },
  "cells": [
    {
      "cell_type": "markdown",
      "metadata": {
        "id": "view-in-github",
        "colab_type": "text"
      },
      "source": [
        "<a href=\"https://colab.research.google.com/github/haidaramumca/test/blob/main/Overloading_contains.ipynb\" target=\"_parent\"><img src=\"https://colab.research.google.com/assets/colab-badge.svg\" alt=\"Open In Colab\"/></a>"
      ]
    },
    {
      "cell_type": "code",
      "metadata": {
        "colab": {
          "base_uri": "https://localhost:8080/"
        },
        "id": "GxzKAKX35pLA",
        "outputId": "a21ae0eb-6f31-453d-8b00-f32d7dd6855c"
      },
      "source": [
        "class Tweet:\r\n",
        "    def __init__(self, message, time):\r\n",
        "        self.message = message\r\n",
        "        self.time = time\r\n",
        "\r\n",
        "    def __lt__(self, other):\r\n",
        "        return self.time < other.time\r\n",
        "        \r\n",
        "    def __contains__(self, word):\r\n",
        "        return word in self.message\r\n",
        "\r\n",
        "tweet = \"I just flushed my toilet\"\r\n",
        "newtweet = Tweet(tweet,1000)\r\n",
        "if \"flushed\" in newtweet:\r\n",
        "  print('Yes, its persent')\r\n",
        "\r\n",
        "#now write code to check if the word \"flushed\" is in the tweet\r\n",
        "#and print something nice if that's the case"
      ],
      "execution_count": 2,
      "outputs": [
        {
          "output_type": "stream",
          "text": [
            "Yes, its persent\n"
          ],
          "name": "stdout"
        }
      ]
    }
  ]
}