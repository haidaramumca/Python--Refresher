{
  "nbformat": 4,
  "nbformat_minor": 0,
  "metadata": {
    "colab": {
      "name": "Untitled10.ipynb",
      "provenance": [],
      "authorship_tag": "ABX9TyPF8B4Jx0P5zF8rC2QYRD6R",
      "include_colab_link": true
    },
    "kernelspec": {
      "name": "python3",
      "display_name": "Python 3"
    },
    "language_info": {
      "name": "python"
    }
  },
  "cells": [
    {
      "cell_type": "markdown",
      "metadata": {
        "id": "view-in-github",
        "colab_type": "text"
      },
      "source": [
        "<a href=\"https://colab.research.google.com/github/haidaramumca/test/blob/main/Merge.ipynb\" target=\"_parent\"><img src=\"https://colab.research.google.com/assets/colab-badge.svg\" alt=\"Open In Colab\"/></a>"
      ]
    },
    {
      "cell_type": "code",
      "metadata": {
        "colab": {
          "base_uri": "https://localhost:8080/",
          "height": 69
        },
        "id": "83-j0rMNHiLK",
        "outputId": "204dad3e-2646-4cd2-940a-99b8385e2141"
      },
      "source": [
        "# import pandas\n",
        "import pandas as pd\n",
        "# read csv data\n",
        "df1 = pd.read_csv('/content/airports.csv')\n",
        "df2 = pd.read_csv('/content/runways.csv')\n",
        "\n",
        "inner_join = pd.merge(df1, \n",
        "                      df2, \n",
        "                      on ='id', \n",
        "                      how ='inner')\n",
        "inner_join"
      ],
      "execution_count": 5,
      "outputs": [
        {
          "output_type": "execute_result",
          "data": {
            "text/html": [
              "<div>\n",
              "<style scoped>\n",
              "    .dataframe tbody tr th:only-of-type {\n",
              "        vertical-align: middle;\n",
              "    }\n",
              "\n",
              "    .dataframe tbody tr th {\n",
              "        vertical-align: top;\n",
              "    }\n",
              "\n",
              "    .dataframe thead th {\n",
              "        text-align: right;\n",
              "    }\n",
              "</style>\n",
              "<table border=\"1\" class=\"dataframe\">\n",
              "  <thead>\n",
              "    <tr style=\"text-align: right;\">\n",
              "      <th></th>\n",
              "      <th>id</th>\n",
              "      <th>ident</th>\n",
              "      <th>type</th>\n",
              "      <th>name</th>\n",
              "      <th>latitude_deg</th>\n",
              "      <th>longitude_deg</th>\n",
              "      <th>elevation_ft</th>\n",
              "      <th>continent</th>\n",
              "      <th>iso_country</th>\n",
              "      <th>iso_region</th>\n",
              "      <th>municipality</th>\n",
              "      <th>scheduled_service</th>\n",
              "      <th>gps_code</th>\n",
              "      <th>iata_code</th>\n",
              "      <th>local_code</th>\n",
              "      <th>home_link</th>\n",
              "      <th>wikipedia_link</th>\n",
              "      <th>keywords</th>\n",
              "      <th>airport_ref</th>\n",
              "      <th>airport_ident</th>\n",
              "      <th>length_ft</th>\n",
              "      <th>width_ft</th>\n",
              "      <th>surface</th>\n",
              "      <th>lighted</th>\n",
              "      <th>closed</th>\n",
              "      <th>le_ident</th>\n",
              "      <th>le_latitude_deg</th>\n",
              "      <th>le_longitude_deg</th>\n",
              "      <th>le_elevation_ft</th>\n",
              "      <th>le_heading_degT</th>\n",
              "      <th>le_displaced_threshold_ft</th>\n",
              "      <th>he_ident</th>\n",
              "      <th>he_latitude_deg</th>\n",
              "      <th>he_longitude_deg</th>\n",
              "      <th>he_elevation_ft</th>\n",
              "      <th>he_heading_degT</th>\n",
              "      <th>he_displaced_threshold_ft</th>\n",
              "    </tr>\n",
              "  </thead>\n",
              "  <tbody>\n",
              "  </tbody>\n",
              "</table>\n",
              "</div>"
            ],
            "text/plain": [
              "Empty DataFrame\n",
              "Columns: [id, ident, type, name, latitude_deg, longitude_deg, elevation_ft, continent, iso_country, iso_region, municipality, scheduled_service, gps_code, iata_code, local_code, home_link, wikipedia_link, keywords, airport_ref, airport_ident, length_ft, width_ft, surface, lighted, closed, le_ident, le_latitude_deg, le_longitude_deg, le_elevation_ft, le_heading_degT, le_displaced_threshold_ft, he_ident, he_latitude_deg, he_longitude_deg, he_elevation_ft, he_heading_degT, he_displaced_threshold_ft]\n",
              "Index: []"
            ]
          },
          "metadata": {
            "tags": []
          },
          "execution_count": 5
        }
      ]
    }
  ]
}